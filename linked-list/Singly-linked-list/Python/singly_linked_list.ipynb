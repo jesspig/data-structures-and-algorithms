{
 "cells": [
  {
   "cell_type": "code",
   "execution_count": 122,
   "metadata": {},
   "outputs": [],
   "source": [
    "class Node:\n",
    "    def __init__(self, val):\n",
    "        self.val = val\n",
    "        self.next = None"
   ]
  },
  {
   "cell_type": "code",
   "execution_count": 123,
   "metadata": {},
   "outputs": [],
   "source": [
    "def init()->Node:\n",
    "    head = Node(None)\n",
    "    return head\n",
    "\n",
    "# 打印链表\n",
    "def display(head:Node)->None:\n",
    "    node = head.next\n",
    "    while node:\n",
    "        print(node.val, end=\" \")\n",
    "        node = node.next"
   ]
  },
  {
   "cell_type": "code",
   "execution_count": 124,
   "metadata": {},
   "outputs": [],
   "source": [
    "head = init()"
   ]
  },
  {
   "cell_type": "code",
   "execution_count": 125,
   "metadata": {},
   "outputs": [],
   "source": [
    "# 头部插入\n",
    "def insert_head(head:Node, val)->None:\n",
    "    node = Node(val)\n",
    "    node.next = head.next\n",
    "    head.next = node"
   ]
  },
  {
   "cell_type": "code",
   "execution_count": 126,
   "metadata": {},
   "outputs": [
    {
     "name": "stdout",
     "output_type": "stream",
     "text": [
      "b a "
     ]
    }
   ],
   "source": [
    "insert_head(head,'a')\n",
    "insert_head(head,'b')\n",
    "display(head)"
   ]
  },
  {
   "cell_type": "code",
   "execution_count": 127,
   "metadata": {},
   "outputs": [],
   "source": [
    "# 尾部插入\n",
    "def insert_tail(head:Node, val)->None:\n",
    "    node = Node(val)\n",
    "    temp = head.next\n",
    "    while temp.next:\n",
    "        temp = temp.next\n",
    "    temp.next = node"
   ]
  },
  {
   "cell_type": "code",
   "execution_count": 128,
   "metadata": {},
   "outputs": [
    {
     "name": "stdout",
     "output_type": "stream",
     "text": [
      "b a c d "
     ]
    }
   ],
   "source": [
    "insert_tail(head,'c')\n",
    "insert_tail(head,'d')\n",
    "display(head)"
   ]
  },
  {
   "cell_type": "code",
   "execution_count": 129,
   "metadata": {},
   "outputs": [],
   "source": [
    "# 中间插入\n",
    "def insert_middle(head:Node, val, index)->None:\n",
    "    node = Node(val)\n",
    "    temp = head\n",
    "    for _ in range(index):\n",
    "        temp = temp.next\n",
    "    node.next = temp.next\n",
    "    temp.next = node"
   ]
  },
  {
   "cell_type": "code",
   "execution_count": 130,
   "metadata": {},
   "outputs": [
    {
     "name": "stdout",
     "output_type": "stream",
     "text": [
      "b a f e c d "
     ]
    }
   ],
   "source": [
    "insert_middle(head,'e',2)\n",
    "insert_middle(head,'f',2)\n",
    "display(head)"
   ]
  },
  {
   "cell_type": "code",
   "execution_count": 131,
   "metadata": {},
   "outputs": [],
   "source": [
    "# 头部删除\n",
    "def delete_head(head:Node)->None:\n",
    "    if head.next == None:\n",
    "        print(\"head is empty\")\n",
    "    head.next = head.next.next"
   ]
  },
  {
   "cell_type": "code",
   "execution_count": 132,
   "metadata": {},
   "outputs": [
    {
     "name": "stdout",
     "output_type": "stream",
     "text": [
      "a f e c d "
     ]
    }
   ],
   "source": [
    "delete_head(head)\n",
    "display(head)"
   ]
  },
  {
   "cell_type": "code",
   "execution_count": 133,
   "metadata": {},
   "outputs": [],
   "source": [
    "# 尾部删除\n",
    "def delete_tail(head:Node)->None:\n",
    "    if head.next == None:\n",
    "        print(\"head is empty\")\n",
    "    temp = head.next\n",
    "    while temp.next.next:\n",
    "        temp = temp.next\n",
    "    temp.next = None"
   ]
  },
  {
   "cell_type": "code",
   "execution_count": 134,
   "metadata": {},
   "outputs": [
    {
     "name": "stdout",
     "output_type": "stream",
     "text": [
      "a f e c "
     ]
    }
   ],
   "source": [
    "delete_tail(head)\n",
    "display(head)"
   ]
  },
  {
   "cell_type": "code",
   "execution_count": 135,
   "metadata": {},
   "outputs": [],
   "source": [
    "# 中间删除\n",
    "def delete_middle(head:Node, index:int)->None:\n",
    "    if head.next == None:\n",
    "        print(\"head is empty\")\n",
    "    temp = head\n",
    "    for _ in range(index):\n",
    "        temp = temp.next\n",
    "    temp.next = temp.next.next"
   ]
  },
  {
   "cell_type": "code",
   "execution_count": 136,
   "metadata": {},
   "outputs": [
    {
     "name": "stdout",
     "output_type": "stream",
     "text": [
      "a f c "
     ]
    }
   ],
   "source": [
    "delete_middle(head,2)\n",
    "display(head)"
   ]
  },
  {
   "cell_type": "code",
   "execution_count": 137,
   "metadata": {},
   "outputs": [],
   "source": [
    "# 修改链表中的值\n",
    "def modify(head:Node, index:int, val)->None:\n",
    "    if head.next == None:\n",
    "        print(\"head is empty\")\n",
    "    temp = head\n",
    "    for _ in range(index):\n",
    "        temp = temp.next\n",
    "    temp.val = val"
   ]
  },
  {
   "cell_type": "code",
   "execution_count": 138,
   "metadata": {},
   "outputs": [
    {
     "name": "stdout",
     "output_type": "stream",
     "text": [
      "a g c "
     ]
    }
   ],
   "source": [
    "modify(head,2,'g')\n",
    "display(head)"
   ]
  },
  {
   "cell_type": "code",
   "execution_count": 139,
   "metadata": {},
   "outputs": [],
   "source": [
    "# 找到链表中的值\n",
    "def search(head:Node, index:int)->any:\n",
    "    if head.next == None:\n",
    "        print(\"head is empty\")\n",
    "    temp = head\n",
    "    for _ in range(index):\n",
    "        temp = temp.next\n",
    "    return temp.val"
   ]
  },
  {
   "cell_type": "code",
   "execution_count": 140,
   "metadata": {},
   "outputs": [
    {
     "data": {
      "text/plain": [
       "'g'"
      ]
     },
     "execution_count": 140,
     "metadata": {},
     "output_type": "execute_result"
    }
   ],
   "source": [
    "search(head,2)"
   ]
  },
  {
   "cell_type": "code",
   "execution_count": 141,
   "metadata": {},
   "outputs": [],
   "source": [
    "# 查找值的位置\n",
    "def find(head:Node, val)->int:\n",
    "    if head.next == None:\n",
    "        print(\"head is empty\")\n",
    "        return -1\n",
    "    temp = head\n",
    "    index = 0\n",
    "    while temp.next:\n",
    "        if temp.val == val:\n",
    "            return index\n",
    "        temp = temp.next\n",
    "        index += 1\n",
    "    if temp.val == val:\n",
    "        return index\n",
    "    print('value not found')\n",
    "    return -1"
   ]
  },
  {
   "cell_type": "code",
   "execution_count": 142,
   "metadata": {},
   "outputs": [
    {
     "data": {
      "text/plain": [
       "2"
      ]
     },
     "execution_count": 142,
     "metadata": {},
     "output_type": "execute_result"
    }
   ],
   "source": [
    "find(head,'g')"
   ]
  },
  {
   "cell_type": "code",
   "execution_count": 143,
   "metadata": {},
   "outputs": [],
   "source": [
    "# 链表的长度\n",
    "def length(head:Node)->int:\n",
    "    if head.next == None:\n",
    "        print(\"head is empty\")\n",
    "        return 0\n",
    "    temp = head\n",
    "    count = 0\n",
    "    while temp.next:\n",
    "        temp = temp.next\n",
    "        count += 1\n",
    "    return count"
   ]
  },
  {
   "cell_type": "code",
   "execution_count": 144,
   "metadata": {},
   "outputs": [
    {
     "data": {
      "text/plain": [
       "3"
      ]
     },
     "execution_count": 144,
     "metadata": {},
     "output_type": "execute_result"
    }
   ],
   "source": [
    "length(head)"
   ]
  }
 ],
 "metadata": {
  "interpreter": {
   "hash": "cbc53e53c05c7e9e802f375d7e4fe37bb0ad99024f39fc7c8a630c92101ee105"
  },
  "kernelspec": {
   "display_name": "Python 3.9.7 ('base')",
   "language": "python",
   "name": "python3"
  },
  "language_info": {
   "codemirror_mode": {
    "name": "ipython",
    "version": 3
   },
   "file_extension": ".py",
   "mimetype": "text/x-python",
   "name": "python",
   "nbconvert_exporter": "python",
   "pygments_lexer": "ipython3",
   "version": "3.9.7"
  },
  "orig_nbformat": 4
 },
 "nbformat": 4,
 "nbformat_minor": 2
}
