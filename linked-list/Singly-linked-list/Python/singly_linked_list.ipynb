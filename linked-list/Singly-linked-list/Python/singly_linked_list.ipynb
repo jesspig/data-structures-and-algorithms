{
 "cells": [
  {
   "cell_type": "code",
   "execution_count": 1,
   "metadata": {},
   "outputs": [],
   "source": [
    "class Node:\n",
    "    def __init__(self, val):\n",
    "        self.val = val\n",
    "        self.next = None"
   ]
  },
  {
   "cell_type": "code",
   "execution_count": 2,
   "metadata": {},
   "outputs": [],
   "source": [
    "def init()->Node:\n",
    "    head = Node(None)\n",
    "    return head\n",
    "\n",
    "# 打印链表\n",
    "def display(head):\n",
    "    node = head.next\n",
    "    flag = False\n",
    "    print(\"[\", end=\"\")\n",
    "    while node:\n",
    "        if flag:\n",
    "            print(\", \", end=\"\")\n",
    "        print(node.val, end=\"\")\n",
    "        node = node.next\n",
    "        flag = True\n",
    "    print(\"]\")"
   ]
  },
  {
   "cell_type": "code",
   "execution_count": 3,
   "metadata": {},
   "outputs": [],
   "source": [
    "head = init()"
   ]
  },
  {
   "cell_type": "code",
   "execution_count": 4,
   "metadata": {},
   "outputs": [],
   "source": [
    "# 头部插入\n",
    "def insert_head(head:Node, val)->None:\n",
    "    node = Node(val)\n",
    "    node.next = head.next\n",
    "    head.next = node"
   ]
  },
  {
   "cell_type": "code",
   "execution_count": 5,
   "metadata": {},
   "outputs": [
    {
     "name": "stdout",
     "output_type": "stream",
     "text": [
      "[b, a]\n"
     ]
    }
   ],
   "source": [
    "insert_head(head,'a')\n",
    "insert_head(head,'b')\n",
    "display(head)"
   ]
  },
  {
   "cell_type": "code",
   "execution_count": 6,
   "metadata": {},
   "outputs": [],
   "source": [
    "# 尾部插入\n",
    "def insert_tail(head:Node, val)->None:\n",
    "    node = Node(val)\n",
    "    temp = head.next\n",
    "    while temp.next:\n",
    "        temp = temp.next\n",
    "    temp.next = node"
   ]
  },
  {
   "cell_type": "code",
   "execution_count": 7,
   "metadata": {},
   "outputs": [
    {
     "name": "stdout",
     "output_type": "stream",
     "text": [
      "[b, a, c, d]\n"
     ]
    }
   ],
   "source": [
    "insert_tail(head,'c')\n",
    "insert_tail(head,'d')\n",
    "display(head)"
   ]
  },
  {
   "cell_type": "code",
   "execution_count": 8,
   "metadata": {},
   "outputs": [],
   "source": [
    "# 中间插入\n",
    "def insert_middle(head:Node, val, index)->None:\n",
    "    node = Node(val)\n",
    "    temp = head\n",
    "    for _ in range(index):\n",
    "        temp = temp.next\n",
    "    node.next = temp.next\n",
    "    temp.next = node"
   ]
  },
  {
   "cell_type": "code",
   "execution_count": 9,
   "metadata": {},
   "outputs": [
    {
     "name": "stdout",
     "output_type": "stream",
     "text": [
      "[b, a, f, e, c, d]\n"
     ]
    }
   ],
   "source": [
    "insert_middle(head,'e',2)\n",
    "insert_middle(head,'f',2)\n",
    "display(head)"
   ]
  },
  {
   "cell_type": "code",
   "execution_count": 10,
   "metadata": {},
   "outputs": [],
   "source": [
    "# 头部删除\n",
    "def delete_head(head:Node)->None:\n",
    "    if head.next == None:\n",
    "        print(\"head is empty\")\n",
    "    head.next = head.next.next"
   ]
  },
  {
   "cell_type": "code",
   "execution_count": 11,
   "metadata": {},
   "outputs": [
    {
     "name": "stdout",
     "output_type": "stream",
     "text": [
      "[a, f, e, c, d]\n"
     ]
    }
   ],
   "source": [
    "delete_head(head)\n",
    "display(head)"
   ]
  },
  {
   "cell_type": "code",
   "execution_count": 12,
   "metadata": {},
   "outputs": [],
   "source": [
    "# 尾部删除\n",
    "def delete_tail(head:Node)->None:\n",
    "    if head.next == None:\n",
    "        print(\"head is empty\")\n",
    "    temp = head.next\n",
    "    while temp.next.next:\n",
    "        temp = temp.next\n",
    "    temp.next = None"
   ]
  },
  {
   "cell_type": "code",
   "execution_count": 13,
   "metadata": {},
   "outputs": [
    {
     "name": "stdout",
     "output_type": "stream",
     "text": [
      "[a, f, e, c]\n"
     ]
    }
   ],
   "source": [
    "delete_tail(head)\n",
    "display(head)"
   ]
  },
  {
   "cell_type": "code",
   "execution_count": 14,
   "metadata": {},
   "outputs": [],
   "source": [
    "# 中间删除\n",
    "def delete_middle(head:Node, index:int)->None:\n",
    "    if head.next == None:\n",
    "        print(\"head is empty\")\n",
    "    temp = head\n",
    "    for _ in range(index):\n",
    "        temp = temp.next\n",
    "    temp.next = temp.next.next"
   ]
  },
  {
   "cell_type": "code",
   "execution_count": 15,
   "metadata": {},
   "outputs": [
    {
     "name": "stdout",
     "output_type": "stream",
     "text": [
      "[a, f, c]\n"
     ]
    }
   ],
   "source": [
    "delete_middle(head,2)\n",
    "display(head)"
   ]
  },
  {
   "cell_type": "code",
   "execution_count": 16,
   "metadata": {},
   "outputs": [],
   "source": [
    "# 修改链表中的值\n",
    "def modify(head:Node, index:int, val)->None:\n",
    "    if head.next == None:\n",
    "        print(\"head is empty\")\n",
    "    temp = head\n",
    "    for _ in range(index):\n",
    "        temp = temp.next\n",
    "    temp.val = val"
   ]
  },
  {
   "cell_type": "code",
   "execution_count": 17,
   "metadata": {},
   "outputs": [
    {
     "name": "stdout",
     "output_type": "stream",
     "text": [
      "[a, g, c]\n"
     ]
    }
   ],
   "source": [
    "modify(head,2,'g')\n",
    "display(head)"
   ]
  },
  {
   "cell_type": "code",
   "execution_count": 18,
   "metadata": {},
   "outputs": [],
   "source": [
    "# 找到链表中的值\n",
    "def search(head:Node, index:int)->any:\n",
    "    if head.next == None:\n",
    "        print(\"head is empty\")\n",
    "    temp = head\n",
    "    for _ in range(index):\n",
    "        temp = temp.next\n",
    "    return temp.val"
   ]
  },
  {
   "cell_type": "code",
   "execution_count": 19,
   "metadata": {},
   "outputs": [
    {
     "data": {
      "text/plain": [
       "'g'"
      ]
     },
     "execution_count": 19,
     "metadata": {},
     "output_type": "execute_result"
    }
   ],
   "source": [
    "search(head,2)"
   ]
  },
  {
   "cell_type": "code",
   "execution_count": 20,
   "metadata": {},
   "outputs": [],
   "source": [
    "# 查找值的位置\n",
    "def find(head:Node, val)->int:\n",
    "    if head.next == None:\n",
    "        print(\"head is empty\")\n",
    "        return -1\n",
    "    temp = head\n",
    "    index = 0\n",
    "    while temp.next:\n",
    "        if temp.val == val:\n",
    "            return index\n",
    "        temp = temp.next\n",
    "        index += 1\n",
    "    if temp.val == val:\n",
    "        return index\n",
    "    print('value not found')\n",
    "    return -1"
   ]
  },
  {
   "cell_type": "code",
   "execution_count": 21,
   "metadata": {},
   "outputs": [
    {
     "data": {
      "text/plain": [
       "2"
      ]
     },
     "execution_count": 21,
     "metadata": {},
     "output_type": "execute_result"
    }
   ],
   "source": [
    "find(head,'g')"
   ]
  },
  {
   "cell_type": "code",
   "execution_count": 22,
   "metadata": {},
   "outputs": [],
   "source": [
    "# 链表的长度\n",
    "def length(head:Node)->int:\n",
    "    if head.next == None:\n",
    "        print(\"head is empty\")\n",
    "        return 0\n",
    "    temp = head\n",
    "    count = 0\n",
    "    while temp.next:\n",
    "        temp = temp.next\n",
    "        count += 1\n",
    "    return count"
   ]
  },
  {
   "cell_type": "code",
   "execution_count": 23,
   "metadata": {},
   "outputs": [
    {
     "data": {
      "text/plain": [
       "3"
      ]
     },
     "execution_count": 23,
     "metadata": {},
     "output_type": "execute_result"
    }
   ],
   "source": [
    "length(head)"
   ]
  }
 ],
 "metadata": {
  "interpreter": {
   "hash": "cbc53e53c05c7e9e802f375d7e4fe37bb0ad99024f39fc7c8a630c92101ee105"
  },
  "kernelspec": {
   "display_name": "Python 3.9.7 ('base')",
   "language": "python",
   "name": "python3"
  },
  "language_info": {
   "codemirror_mode": {
    "name": "ipython",
    "version": 3
   },
   "file_extension": ".py",
   "mimetype": "text/x-python",
   "name": "python",
   "nbconvert_exporter": "python",
   "pygments_lexer": "ipython3",
   "version": "3.9.7"
  },
  "orig_nbformat": 4
 },
 "nbformat": 4,
 "nbformat_minor": 2
}
